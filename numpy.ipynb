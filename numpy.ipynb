{
 "cells": [
  {
   "cell_type": "markdown",
   "metadata": {},
   "source": [
    "Calculate Standard Deviation\n",
    "- Can use numpy.std()"
   ]
  },
  {
   "cell_type": "code",
   "execution_count": 4,
   "metadata": {
    "tags": []
   },
   "outputs": [
    {
     "name": "stdout",
     "output_type": "stream",
     "text": [
      "9.258292301032677\n",
      "9.258292301032677\n"
     ]
    }
   ],
   "source": [
    "import numpy as np\n",
    "import math\n",
    "\n",
    "def calc_standard_deviation(arr):\n",
    "    avg = np.mean(arr)\n",
    "    diff = 0\n",
    "    for el in arr:\n",
    "        diff += math.pow(el - avg, 2)\n",
    "\n",
    "    diff /= len(arr)\n",
    "    return math.sqrt(diff)\n",
    "\n",
    "speeds = [99,86,87,88,111,86,103,87,94,78,77,85,86]\n",
    "print(calc_standard_deviation(speeds))\n",
    "print(np.std(speeds))"
   ]
  },
  {
   "cell_type": "code",
   "execution_count": 1,
   "metadata": {
    "tags": []
   },
   "outputs": [
    {
     "name": "stdout",
     "output_type": "stream",
     "text": [
      "hello numpy\n"
     ]
    }
   ],
   "source": [
    "print(\"hello numpy\")"
   ]
  }
 ],
 "metadata": {
  "kernelspec": {
   "display_name": "Python 3.11.0 64-bit",
   "language": "python",
   "name": "python3"
  },
  "language_info": {
   "codemirror_mode": {
    "name": "ipython",
    "version": 3
   },
   "file_extension": ".py",
   "mimetype": "text/x-python",
   "name": "python",
   "nbconvert_exporter": "python",
   "pygments_lexer": "ipython3",
   "version": "3.11.0"
  },
  "orig_nbformat": 4,
  "vscode": {
   "interpreter": {
    "hash": "c261aea317cc0286b3b3261fbba9abdec21eaa57589985bb7a274bf54d6cc0a7"
   }
  }
 },
 "nbformat": 4,
 "nbformat_minor": 2
}
